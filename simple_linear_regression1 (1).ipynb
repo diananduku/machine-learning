{
 "cells": [
  {
   "cell_type": "code",
   "execution_count": 3,
   "id": "923653fe-7ab6-499a-944e-c755b2be0ab4",
   "metadata": {},
   "outputs": [
    {
     "data": {
      "text/html": [
       "<div>\n",
       "<style scoped>\n",
       "    .dataframe tbody tr th:only-of-type {\n",
       "        vertical-align: middle;\n",
       "    }\n",
       "\n",
       "    .dataframe tbody tr th {\n",
       "        vertical-align: top;\n",
       "    }\n",
       "\n",
       "    .dataframe thead th {\n",
       "        text-align: right;\n",
       "    }\n",
       "</style>\n",
       "<table border=\"1\" class=\"dataframe\">\n",
       "  <thead>\n",
       "    <tr style=\"text-align: right;\">\n",
       "      <th></th>\n",
       "      <th>Country</th>\n",
       "      <th>Total Library Size</th>\n",
       "      <th>No. of TV Shows</th>\n",
       "      <th>No. of Movies</th>\n",
       "      <th>Cost Per Month - Basic ($)</th>\n",
       "      <th>Cost Per Month - Standard ($)</th>\n",
       "      <th>Cost Per Month - Premium ($)</th>\n",
       "    </tr>\n",
       "  </thead>\n",
       "  <tbody>\n",
       "    <tr>\n",
       "      <th>0</th>\n",
       "      <td>Argentina</td>\n",
       "      <td>4760</td>\n",
       "      <td>3154</td>\n",
       "      <td>1606</td>\n",
       "      <td>3.74</td>\n",
       "      <td>6.30</td>\n",
       "      <td>9.26</td>\n",
       "    </tr>\n",
       "    <tr>\n",
       "      <th>1</th>\n",
       "      <td>Austria</td>\n",
       "      <td>5640</td>\n",
       "      <td>3779</td>\n",
       "      <td>1861</td>\n",
       "      <td>9.03</td>\n",
       "      <td>14.67</td>\n",
       "      <td>20.32</td>\n",
       "    </tr>\n",
       "    <tr>\n",
       "      <th>2</th>\n",
       "      <td>Bolivia</td>\n",
       "      <td>4991</td>\n",
       "      <td>3155</td>\n",
       "      <td>1836</td>\n",
       "      <td>7.99</td>\n",
       "      <td>10.99</td>\n",
       "      <td>13.99</td>\n",
       "    </tr>\n",
       "    <tr>\n",
       "      <th>3</th>\n",
       "      <td>Bulgaria</td>\n",
       "      <td>6797</td>\n",
       "      <td>4819</td>\n",
       "      <td>1978</td>\n",
       "      <td>9.03</td>\n",
       "      <td>11.29</td>\n",
       "      <td>13.54</td>\n",
       "    </tr>\n",
       "    <tr>\n",
       "      <th>4</th>\n",
       "      <td>Chile</td>\n",
       "      <td>4994</td>\n",
       "      <td>3156</td>\n",
       "      <td>1838</td>\n",
       "      <td>7.07</td>\n",
       "      <td>9.91</td>\n",
       "      <td>12.74</td>\n",
       "    </tr>\n",
       "    <tr>\n",
       "      <th>...</th>\n",
       "      <td>...</td>\n",
       "      <td>...</td>\n",
       "      <td>...</td>\n",
       "      <td>...</td>\n",
       "      <td>...</td>\n",
       "      <td>...</td>\n",
       "      <td>...</td>\n",
       "    </tr>\n",
       "    <tr>\n",
       "      <th>60</th>\n",
       "      <td>Ireland</td>\n",
       "      <td>6486</td>\n",
       "      <td>4515</td>\n",
       "      <td>1971</td>\n",
       "      <td>9.03</td>\n",
       "      <td>14.67</td>\n",
       "      <td>20.32</td>\n",
       "    </tr>\n",
       "    <tr>\n",
       "      <th>61</th>\n",
       "      <td>Switzerland</td>\n",
       "      <td>5506</td>\n",
       "      <td>3654</td>\n",
       "      <td>1852</td>\n",
       "      <td>12.88</td>\n",
       "      <td>20.46</td>\n",
       "      <td>26.96</td>\n",
       "    </tr>\n",
       "    <tr>\n",
       "      <th>62</th>\n",
       "      <td>Australia</td>\n",
       "      <td>6114</td>\n",
       "      <td>4050</td>\n",
       "      <td>2064</td>\n",
       "      <td>7.84</td>\n",
       "      <td>12.12</td>\n",
       "      <td>16.39</td>\n",
       "    </tr>\n",
       "    <tr>\n",
       "      <th>63</th>\n",
       "      <td>Denmark</td>\n",
       "      <td>4558</td>\n",
       "      <td>2978</td>\n",
       "      <td>1580</td>\n",
       "      <td>12.00</td>\n",
       "      <td>15.04</td>\n",
       "      <td>19.60</td>\n",
       "    </tr>\n",
       "    <tr>\n",
       "      <th>64</th>\n",
       "      <td>United States</td>\n",
       "      <td>5818</td>\n",
       "      <td>3826</td>\n",
       "      <td>1992</td>\n",
       "      <td>8.99</td>\n",
       "      <td>13.99</td>\n",
       "      <td>17.99</td>\n",
       "    </tr>\n",
       "  </tbody>\n",
       "</table>\n",
       "<p>65 rows × 7 columns</p>\n",
       "</div>"
      ],
      "text/plain": [
       "          Country  Total Library Size  No. of TV Shows  No. of Movies  \\\n",
       "0       Argentina                4760             3154           1606   \n",
       "1         Austria                5640             3779           1861   \n",
       "2         Bolivia                4991             3155           1836   \n",
       "3        Bulgaria                6797             4819           1978   \n",
       "4           Chile                4994             3156           1838   \n",
       "..            ...                 ...              ...            ...   \n",
       "60        Ireland                6486             4515           1971   \n",
       "61    Switzerland                5506             3654           1852   \n",
       "62      Australia                6114             4050           2064   \n",
       "63        Denmark                4558             2978           1580   \n",
       "64  United States                5818             3826           1992   \n",
       "\n",
       "    Cost Per Month - Basic ($)  Cost Per Month - Standard ($)  \\\n",
       "0                         3.74                           6.30   \n",
       "1                         9.03                          14.67   \n",
       "2                         7.99                          10.99   \n",
       "3                         9.03                          11.29   \n",
       "4                         7.07                           9.91   \n",
       "..                         ...                            ...   \n",
       "60                        9.03                          14.67   \n",
       "61                       12.88                          20.46   \n",
       "62                        7.84                          12.12   \n",
       "63                       12.00                          15.04   \n",
       "64                        8.99                          13.99   \n",
       "\n",
       "    Cost Per Month - Premium ($)  \n",
       "0                           9.26  \n",
       "1                          20.32  \n",
       "2                          13.99  \n",
       "3                          13.54  \n",
       "4                          12.74  \n",
       "..                           ...  \n",
       "60                         20.32  \n",
       "61                         26.96  \n",
       "62                         16.39  \n",
       "63                         19.60  \n",
       "64                         17.99  \n",
       "\n",
       "[65 rows x 7 columns]"
      ]
     },
     "execution_count": 3,
     "metadata": {},
     "output_type": "execute_result"
    }
   ],
   "source": [
    "##importing file\n",
    "import pandas as np\n",
    "data=np.read_csv(r\"C:\\Users\\USER\\Downloads\\archive (10)\\netflix price in different countries.csv\")\n",
    "data"
   ]
  },
  {
   "cell_type": "code",
   "execution_count": 4,
   "id": "e713a1f5-a7e4-4e91-b4ef-b447ff204ffd",
   "metadata": {},
   "outputs": [
    {
     "name": "stderr",
     "output_type": "stream",
     "text": [
      "C:\\Users\\USER\\AppData\\Local\\Temp\\ipykernel_15172\\222290747.py:2: FutureWarning: The default value of numeric_only in DataFrame.corr is deprecated. In a future version, it will default to False. Select only valid columns or specify the value of numeric_only to silence this warning.\n",
      "  data.corr()\n"
     ]
    },
    {
     "data": {
      "text/html": [
       "<div>\n",
       "<style scoped>\n",
       "    .dataframe tbody tr th:only-of-type {\n",
       "        vertical-align: middle;\n",
       "    }\n",
       "\n",
       "    .dataframe tbody tr th {\n",
       "        vertical-align: top;\n",
       "    }\n",
       "\n",
       "    .dataframe thead th {\n",
       "        text-align: right;\n",
       "    }\n",
       "</style>\n",
       "<table border=\"1\" class=\"dataframe\">\n",
       "  <thead>\n",
       "    <tr style=\"text-align: right;\">\n",
       "      <th></th>\n",
       "      <th>Total Library Size</th>\n",
       "      <th>No. of TV Shows</th>\n",
       "      <th>No. of Movies</th>\n",
       "      <th>Cost Per Month - Basic ($)</th>\n",
       "      <th>Cost Per Month - Standard ($)</th>\n",
       "      <th>Cost Per Month - Premium ($)</th>\n",
       "    </tr>\n",
       "  </thead>\n",
       "  <tbody>\n",
       "    <tr>\n",
       "      <th>Total Library Size</th>\n",
       "      <td>1.000000</td>\n",
       "      <td>0.971146</td>\n",
       "      <td>0.849957</td>\n",
       "      <td>-0.062877</td>\n",
       "      <td>-0.055200</td>\n",
       "      <td>-0.071521</td>\n",
       "    </tr>\n",
       "    <tr>\n",
       "      <th>No. of TV Shows</th>\n",
       "      <td>0.971146</td>\n",
       "      <td>1.000000</td>\n",
       "      <td>0.699786</td>\n",
       "      <td>-0.003814</td>\n",
       "      <td>0.002285</td>\n",
       "      <td>-0.011100</td>\n",
       "    </tr>\n",
       "    <tr>\n",
       "      <th>No. of Movies</th>\n",
       "      <td>0.849957</td>\n",
       "      <td>0.699786</td>\n",
       "      <td>1.000000</td>\n",
       "      <td>-0.179913</td>\n",
       "      <td>-0.170391</td>\n",
       "      <td>-0.189711</td>\n",
       "    </tr>\n",
       "    <tr>\n",
       "      <th>Cost Per Month - Basic ($)</th>\n",
       "      <td>-0.062877</td>\n",
       "      <td>-0.003814</td>\n",
       "      <td>-0.179913</td>\n",
       "      <td>1.000000</td>\n",
       "      <td>0.898535</td>\n",
       "      <td>0.820914</td>\n",
       "    </tr>\n",
       "    <tr>\n",
       "      <th>Cost Per Month - Standard ($)</th>\n",
       "      <td>-0.055200</td>\n",
       "      <td>0.002285</td>\n",
       "      <td>-0.170391</td>\n",
       "      <td>0.898535</td>\n",
       "      <td>1.000000</td>\n",
       "      <td>0.978768</td>\n",
       "    </tr>\n",
       "    <tr>\n",
       "      <th>Cost Per Month - Premium ($)</th>\n",
       "      <td>-0.071521</td>\n",
       "      <td>-0.011100</td>\n",
       "      <td>-0.189711</td>\n",
       "      <td>0.820914</td>\n",
       "      <td>0.978768</td>\n",
       "      <td>1.000000</td>\n",
       "    </tr>\n",
       "  </tbody>\n",
       "</table>\n",
       "</div>"
      ],
      "text/plain": [
       "                               Total Library Size  No. of TV Shows  \\\n",
       "Total Library Size                       1.000000         0.971146   \n",
       "No. of TV Shows                          0.971146         1.000000   \n",
       "No. of Movies                            0.849957         0.699786   \n",
       "Cost Per Month - Basic ($)              -0.062877        -0.003814   \n",
       "Cost Per Month - Standard ($)           -0.055200         0.002285   \n",
       "Cost Per Month - Premium ($)            -0.071521        -0.011100   \n",
       "\n",
       "                               No. of Movies  Cost Per Month - Basic ($)  \\\n",
       "Total Library Size                  0.849957                   -0.062877   \n",
       "No. of TV Shows                     0.699786                   -0.003814   \n",
       "No. of Movies                       1.000000                   -0.179913   \n",
       "Cost Per Month - Basic ($)         -0.179913                    1.000000   \n",
       "Cost Per Month - Standard ($)      -0.170391                    0.898535   \n",
       "Cost Per Month - Premium ($)       -0.189711                    0.820914   \n",
       "\n",
       "                               Cost Per Month - Standard ($)  \\\n",
       "Total Library Size                                 -0.055200   \n",
       "No. of TV Shows                                     0.002285   \n",
       "No. of Movies                                      -0.170391   \n",
       "Cost Per Month - Basic ($)                          0.898535   \n",
       "Cost Per Month - Standard ($)                       1.000000   \n",
       "Cost Per Month - Premium ($)                        0.978768   \n",
       "\n",
       "                               Cost Per Month - Premium ($)  \n",
       "Total Library Size                                -0.071521  \n",
       "No. of TV Shows                                   -0.011100  \n",
       "No. of Movies                                     -0.189711  \n",
       "Cost Per Month - Basic ($)                         0.820914  \n",
       "Cost Per Month - Standard ($)                      0.978768  \n",
       "Cost Per Month - Premium ($)                       1.000000  "
      ]
     },
     "execution_count": 4,
     "metadata": {},
     "output_type": "execute_result"
    }
   ],
   "source": [
    "##checking the correlation\n",
    "data.corr()"
   ]
  },
  {
   "cell_type": "code",
   "execution_count": 5,
   "id": "3f6a28e8-f035-4e42-a130-a20601d62595",
   "metadata": {},
   "outputs": [],
   "source": [
    "##using cost per month-standard and cost per month-premium\n",
    "data=data[['Cost Per Month - Standard ($)','Cost Per Month - Premium ($)']]\n",
    "data\n",
    "x=data['Cost Per Month - Standard ($)']\n",
    "y=data['Cost Per Month - Premium ($)']"
   ]
  },
  {
   "cell_type": "code",
   "execution_count": 6,
   "id": "efda9597-b47a-402f-b038-7dfab6cd680d",
   "metadata": {},
   "outputs": [
    {
     "data": {
      "text/plain": [
       "Text(0, 0.5, 'Cost Per Month - Premium ($)')"
      ]
     },
     "execution_count": 6,
     "metadata": {},
     "output_type": "execute_result"
    },
    {
     "data": {
      "image/png": "[encoded data removed]",
      "text/plain": [
       "<Figure size 640x480 with 1 Axes>"
      ]
     },
     "metadata": {},
     "output_type": "display_data"
    }
   ],
   "source": [
    "##creating a scatter plot to show correlation\n",
    "import matplotlib.pyplot as plt\n",
    "plt.scatter(x,y)\n",
    "plt.xlabel('Cost Per Month - Standard ($)')\n",
    "plt.ylabel('Cost Per Month - Premium ($)')\n"
   ]
  },
  {
   "cell_type": "code",
   "execution_count": 7,
   "id": "9c3219a1-b5c9-4b78-a08b-aeec627879e9",
   "metadata": {},
   "outputs": [
    {
     "data": {
      "text/plain": [
       "<Axes: >"
      ]
     },
     "execution_count": 7,
     "metadata": {},
     "output_type": "execute_result"
    },
    {
     "data": {
      "image/png": "[encoded data removed]",
      "text/plain": [
       "<Figure size 640x480 with 2 Axes>"
      ]
     },
     "metadata": {},
     "output_type": "display_data"
    }
   ],
   "source": [
    "##heat map to show correlation\n",
    "import seaborn as sns\n",
    "sns.heatmap(data,cmap='coolwarm')"
   ]
  },
  {
   "cell_type": "code",
   "execution_count": 8,
   "id": "faf67e22-7f60-487d-bb56-ab3026dab597",
   "metadata": {},
   "outputs": [],
   "source": [
    "##splitting data into train and test\n",
    "from sklearn.model_selection import train_test_split\n",
    "x_train,x_test,y_train,y_test=train_test_split(x,y, test_size=0.4,random_state=1)"
   ]
  },
  {
   "cell_type": "code",
   "execution_count": 9,
   "id": "bd48fc39-ec5a-4b12-ae9b-2b9781797da8",
   "metadata": {},
   "outputs": [],
   "source": [
    "##converting data to 2-dimensional\n",
    "import numpy as np\n",
    "x_train=np.array(x_train).reshape(-1,1)\n",
    "x_test=np.array(x_test).reshape(-1,1)"
   ]
  },
  {
   "cell_type": "code",
   "execution_count": 10,
   "id": "08689c47-d953-47eb-bc32-b5c400a1969b",
   "metadata": {},
   "outputs": [
    {
     "data": {
      "text/html": [
       "<style>#sk-container-id-1 {color: black;background-color: white;}#sk-container-id-1 pre{padding: 0;}#sk-container-id-1 div.sk-toggleable {background-color: white;}#sk-container-id-1 label.sk-toggleable__label {cursor: pointer;display: block;width: 100%;margin-bottom: 0;padding: 0.3em;box-sizing: border-box;text-align: center;}#sk-container-id-1 label.sk-toggleable__label-arrow:before {content: \"▸\";float: left;margin-right: 0.25em;color: #696969;}#sk-container-id-1 label.sk-toggleable__label-arrow:hover:before {color: black;}#sk-container-id-1 div.sk-estimator:hover label.sk-toggleable__label-arrow:before {color: black;}#sk-container-id-1 div.sk-toggleable__content {max-height: 0;max-width: 0;overflow: hidden;text-align: left;background-color: #f0f8ff;}#sk-container-id-1 div.sk-toggleable__content pre {margin: 0.2em;color: black;border-radius: 0.25em;background-color: #f0f8ff;}#sk-container-id-1 input.sk-toggleable__control:checked~div.sk-toggleable__content {max-height: 200px;max-width: 100%;overflow: auto;}#sk-container-id-1 input.sk-toggleable__control:checked~label.sk-toggleable__label-arrow:before {content: \"▾\";}#sk-container-id-1 div.sk-estimator input.sk-toggleable__control:checked~label.sk-toggleable__label {background-color: #d4ebff;}#sk-container-id-1 div.sk-label input.sk-toggleable__control:checked~label.sk-toggleable__label {background-color: #d4ebff;}#sk-container-id-1 input.sk-hidden--visually {border: 0;clip: rect(1px 1px 1px 1px);clip: rect(1px, 1px, 1px, 1px);height: 1px;margin: -1px;overflow: hidden;padding: 0;position: absolute;width: 1px;}#sk-container-id-1 div.sk-estimator {font-family: monospace;background-color: #f0f8ff;border: 1px dotted black;border-radius: 0.25em;box-sizing: border-box;margin-bottom: 0.5em;}#sk-container-id-1 div.sk-estimator:hover {background-color: #d4ebff;}#sk-container-id-1 div.sk-parallel-item::after {content: \"\";width: 100%;border-bottom: 1px solid gray;flex-grow: 1;}#sk-container-id-1 div.sk-label:hover label.sk-toggleable__label {background-color: #d4ebff;}#sk-container-id-1 div.sk-serial::before {content: \"\";position: absolute;border-left: 1px solid gray;box-sizing: border-box;top: 0;bottom: 0;left: 50%;z-index: 0;}#sk-container-id-1 div.sk-serial {display: flex;flex-direction: column;align-items: center;background-color: white;padding-right: 0.2em;padding-left: 0.2em;position: relative;}#sk-container-id-1 div.sk-item {position: relative;z-index: 1;}#sk-container-id-1 div.sk-parallel {display: flex;align-items: stretch;justify-content: center;background-color: white;position: relative;}#sk-container-id-1 div.sk-item::before, #sk-container-id-1 div.sk-parallel-item::before {content: \"\";position: absolute;border-left: 1px solid gray;box-sizing: border-box;top: 0;bottom: 0;left: 50%;z-index: -1;}#sk-container-id-1 div.sk-parallel-item {display: flex;flex-direction: column;z-index: 1;position: relative;background-color: white;}#sk-container-id-1 div.sk-parallel-item:first-child::after {align-self: flex-end;width: 50%;}#sk-container-id-1 div.sk-parallel-item:last-child::after {align-self: flex-start;width: 50%;}#sk-container-id-1 div.sk-parallel-item:only-child::after {width: 0;}#sk-container-id-1 div.sk-dashed-wrapped {border: 1px dashed gray;margin: 0 0.4em 0.5em 0.4em;box-sizing: border-box;padding-bottom: 0.4em;background-color: white;}#sk-container-id-1 div.sk-label label {font-family: monospace;font-weight: bold;display: inline-block;line-height: 1.2em;}#sk-container-id-1 div.sk-label-container {text-align: center;}#sk-container-id-1 div.sk-container {/* jupyter's `normalize.less` sets `[hidden] { display: none; }` but bootstrap.min.css set `[hidden] { display: none !important; }` so we also need the `!important` here to be able to override the default hidden behavior on the sphinx rendered scikit-learn.org. See: https://github.com/scikit-learn/scikit-learn/issues/21755 */display: inline-block !important;position: relative;}#sk-container-id-1 div.sk-text-repr-fallback {display: none;}</style><div id=\"sk-container-id-1\" class=\"sk-top-container\"><div class=\"sk-text-repr-fallback\"><pre>LinearRegression()</pre><b>In a Jupyter environment, please rerun this cell to show the HTML representation or trust the notebook. <br />On GitHub, the HTML representation is unable to render, please try loading this page with nbviewer.org.</b></div><div class=\"sk-container\" hidden><div class=\"sk-item\"><div class=\"sk-estimator sk-toggleable\"><input class=\"sk-toggleable__control sk-hidden--visually\" id=\"sk-estimator-id-1\" type=\"checkbox\" checked><label for=\"sk-estimator-id-1\" class=\"sk-toggleable__label sk-toggleable__label-arrow\">LinearRegression</label><div class=\"sk-toggleable__content\"><pre>LinearRegression()</pre></div></div></div></div></div>"
      ],
      "text/plain": [
       "LinearRegression()"
      ]
     },
     "execution_count": 10,
     "metadata": {},
     "output_type": "execute_result"
    }
   ],
   "source": [
    "from sklearn.linear_model import LinearRegression\n",
    "linear_regression=LinearRegression()\n",
    "linear_regression"
   ]
  },
  {
   "cell_type": "code",
   "execution_count": 11,
   "id": "3a505a20-8281-45ef-b64c-f928c5246435",
   "metadata": {},
   "outputs": [
    {
     "data": {
      "text/plain": [
       "array([1.33601735])"
      ]
     },
     "execution_count": 11,
     "metadata": {},
     "output_type": "execute_result"
    }
   ],
   "source": [
    "##fitting the data\n",
    "linear_regression.fit(x_train,y_train)\n",
    "linear_regression.coef_"
   ]
  },
  {
   "cell_type": "code",
   "execution_count": 12,
   "id": "3b33bffe-e685-47c3-8694-920e771f4fc6",
   "metadata": {},
   "outputs": [
    {
     "data": {
      "text/plain": [
       "-0.1944873589783942"
      ]
     },
     "execution_count": 12,
     "metadata": {},
     "output_type": "execute_result"
    }
   ],
   "source": [
    "linear_regression.intercept_"
   ]
  },
  {
   "cell_type": "code",
   "execution_count": 14,
   "id": "5236fa8c-af0a-407a-9344-8a90f3844401",
   "metadata": {},
   "outputs": [
    {
     "data": {
      "text/plain": [
       "array([19.40488713, 15.66403856, 16.54581001, 14.28794069,  3.81356468,\n",
       "       17.89518753, 19.40488713, 19.40488713, 17.34742042, 13.94057618,\n",
       "       11.24182114, 15.12963162, 27.14042758, 13.04544456, 16.3988481 ,\n",
       "       15.15635197, 16.06484377, 11.1082194 ,  9.30459598, 14.8891485 ,\n",
       "       19.40488713, 18.49639534, 19.91257373, 13.74017358, 17.16037799,\n",
       "       20.16641702, 14.8891485 , 15.9980429 , 19.40488713, 14.48834329,\n",
       "        8.22242193, 14.48834329,  8.97059165, 20.16641702, 14.48834329,\n",
       "       15.15635197, 19.40488713, 17.16037799, 13.23248699])"
      ]
     },
     "execution_count": 14,
     "metadata": {},
     "output_type": "execute_result"
    }
   ],
   "source": [
    "##predicted premium cost using train data\n",
    "y_pred_test=linear_regression.predict(x_train)\n",
    "y_pred_test"
   ]
  },
  {
   "cell_type": "code",
   "execution_count": 18,
   "id": "63f7e50e-3c5e-4e39-be95-e6d1aff9144e",
   "metadata": {},
   "outputs": [
    {
     "data": {
      "text/plain": [
       "array([17.89518753, 14.8891485 , 16.91989487, 14.48834329, 17.89518753,\n",
       "       18.77695898, 19.40488713, 14.8891485 , 14.48834329, 13.74017358,\n",
       "       14.8891485 , 15.70411908, 19.89921355, 19.40488713, 17.89518753,\n",
       "       14.04745757, 14.11425844, 14.8891485 , 12.0167112 , 14.0340974 ,\n",
       "       14.8891485 , 17.44094163,  8.63658731, 14.8891485 , 27.14042758,\n",
       "       13.16568612])"
      ]
     },
     "execution_count": 18,
     "metadata": {},
     "output_type": "execute_result"
    }
   ],
   "source": [
    "##predicted premium cost using test data\n",
    "y_pred_test=linear_regression.predict(x_test)\n",
    "y_pred_test"
   ]
  },
  {
   "cell_type": "code",
   "execution_count": 19,
   "id": "e4da02e5-5e2f-4276-ac64-9215a8f53c6d",
   "metadata": {},
   "outputs": [
    {
     "ename": "NameError",
     "evalue": "name 'y_pred' is not defined",
     "output_type": "error",
     "traceback": [
      "\u001b[1;31m---------------------------------------------------------------------------\u001b[0m",
      "\u001b[1;31mNameError\u001b[0m                                 Traceback (most recent call last)",
      "Cell \u001b[1;32mIn[19], line 3\u001b[0m\n\u001b[0;32m      1\u001b[0m \u001b[38;5;66;03m##plotting linear regression for test data\u001b[39;00m\n\u001b[0;32m      2\u001b[0m plt\u001b[38;5;241m.\u001b[39mscatter(x_train,y_train)\n\u001b[1;32m----> 3\u001b[0m plt\u001b[38;5;241m.\u001b[39mplot(x_train,\u001b[43my_pred\u001b[49m,color\u001b[38;5;241m=\u001b[39m\u001b[38;5;124m'\u001b[39m\u001b[38;5;124mmagenta\u001b[39m\u001b[38;5;124m'\u001b[39m)\n\u001b[0;32m      4\u001b[0m plt\u001b[38;5;241m.\u001b[39mxlabel(\u001b[38;5;124m'\u001b[39m\u001b[38;5;124mCost Per Month - Standard ($)\u001b[39m\u001b[38;5;124m'\u001b[39m)\n\u001b[0;32m      5\u001b[0m plt\u001b[38;5;241m.\u001b[39mylabel(\u001b[38;5;124m'\u001b[39m\u001b[38;5;124mCost Per Month - Premium ($)\u001b[39m\u001b[38;5;124m'\u001b[39m)\n",
      "\u001b[1;31mNameError\u001b[0m: name 'y_pred' is not defined"
     ]
    },
    {
     "data": {
      "image/png": "[encoded data removed]",
      "text/plain": [
       "<Figure size 640x480 with 1 Axes>"
      ]
     },
     "metadata": {},
     "output_type": "display_data"
    }
   ],
   "source": [
    "##plotting linear regression for test data\n",
    "plt.scatter(x_train,y_train)\n",
    "plt.plot(x_train,y_pred,color='magenta')\n",
    "plt.xlabel('Cost Per Month - Standard ($)')\n",
    "plt.ylabel('Cost Per Month - Premium ($)')\n",
    "plt.title('Train data')"
   ]
  },
  {
   "cell_type": "markdown",
   "id": "694a8054-5bbc-4273-8a35-013ea3d9f84a",
   "metadata": {},
   "source": []
  },
  {
   "cell_type": "code",
   "execution_count": 17,
   "id": "b23432a6-cad1-4836-b591-2a096c360c0a",
   "metadata": {},
   "outputs": [
    {
     "data": {
      "text/plain": [
       "Text(0.5, 1.0, 'Test data')"
      ]
     },
     "execution_count": 17,
     "metadata": {},
     "output_type": "execute_result"
    },
    {
     "data": {
      "image/png": "[encoded data removed]",
      "text/plain": [
       "<Figure size 640x480 with 1 Axes>"
      ]
     },
     "metadata": {},
     "output_type": "display_data"
    }
   ],
   "source": [
    "##plotting linear regression for test data\n",
    "plt.scatter(x_test,y_test,color='black')\n",
    "plt.plot(x_test,y_pred_test,color='green')\n",
    "plt.xlabel('Cost Per Month - Standard ($)')\n",
    "plt.ylabel('Cost Per Month - Premium ($)')\n",
    "plt.title('Test data')"
   ]
  },
  {
   "cell_type": "code",
   "execution_count": 59,
   "id": "9361bff2-fcd5-4c2f-a141-cf4532af93f4",
   "metadata": {},
   "outputs": [
    {
     "name": "stdout",
     "output_type": "stream",
     "text": [
      "predicted:17.90, expected: 18.06\n",
      "predicted:14.89, expected: 13.54\n",
      "predicted:16.92, expected: 16.11\n",
      "predicted:14.49, expected: 13.99\n",
      "predicted:17.90, expected: 18.06\n",
      "predicted:18.78, expected: 19.70\n",
      "predicted:19.40, expected: 20.32\n",
      "predicted:14.89, expected: 13.54\n",
      "predicted:14.49, expected: 13.99\n",
      "predicted:13.74, expected: 12.52\n",
      "predicted:14.89, expected: 13.54\n",
      "predicted:15.70, expected: 14.07\n",
      "predicted:19.90, expected: 19.60\n",
      "predicted:19.40, expected: 20.32\n",
      "predicted:17.90, expected: 18.06\n",
      "predicted:14.05, expected: 12.96\n",
      "predicted:14.11, expected: 13.78\n",
      "predicted:14.89, expected: 13.54\n",
      "predicted:12.02, expected: 10.93\n",
      "predicted:14.03, expected: 13.02\n",
      "predicted:14.89, expected: 13.54\n",
      "predicted:17.44, expected: 18.48\n",
      "predicted:8.64, expected: 8.60\n",
      "predicted:14.89, expected: 13.54\n",
      "predicted:27.14, expected: 26.96\n",
      "predicted:13.17, expected: 11.93\n"
     ]
    }
   ],
   "source": [
    "##comparing predicted y values to actual y values\n",
    "expected=y_test\n",
    "for p, e in zip(y_pred_test[::], expected[::]):\n",
    "    print(f'predicted:{p:.2f}, expected: {e:.2f}')"
   ]
  },
  {
   "cell_type": "code",
   "execution_count": 64,
   "id": "89b98ae3-625c-47f2-9b62-92a8400ebd95",
   "metadata": {},
   "outputs": [
    {
     "data": {
      "text/plain": [
       "0.9333983193063389"
      ]
     },
     "execution_count": 64,
     "metadata": {},
     "output_type": "execute_result"
    }
   ],
   "source": [
    "##testing accuracy of model using r-squared\n",
    "from sklearn.metrics import r2_score\n",
    "r_squared=r2_score(expected,y_pred_test)\n",
    "r_squared"
   ]
  },
  {
   "cell_type": "code",
   "execution_count": 71,
   "id": "85d8abc1-ae9a-4784-9f02-071d728651bd",
   "metadata": {},
   "outputs": [
    {
     "data": {
      "text/plain": [
       "0.9644218934031007"
      ]
     },
     "execution_count": 71,
     "metadata": {},
     "output_type": "execute_result"
    }
   ],
   "source": [
    "##calculating mean squared error\n",
    "from sklearn.metrics import mean_squared_error\n",
    "mse = mean_squared_error(expected, y_pred_test)\n",
    "mse\n"
   ]
  }
 ],
 "metadata": {
  "kernelspec": {
   "display_name": "Python 3 (ipykernel)",
   "language": "python",
   "name": "python3"
  },
  "language_info": {
   "codemirror_mode": {
    "name": "ipython",
    "version": 3
   },
   "file_extension": ".py",
   "mimetype": "text/x-python",
   "name": "python",
   "nbconvert_exporter": "python",
   "pygments_lexer": "ipython3",
   "version": "3.10.9"
  }
 },
 "nbformat": 4,
 "nbformat_minor": 5
}
