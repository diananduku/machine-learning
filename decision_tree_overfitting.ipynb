{
 "cells": [
  {
   "cell_type": "code",
   "execution_count": 1,
   "id": "baaa8924-c2a1-461e-b0dc-67cd039e3319",
   "metadata": {},
   "outputs": [
    {
     "data": {
      "text/html": [
       "<div>\n",
       "<style scoped>\n",
       "    .dataframe tbody tr th:only-of-type {\n",
       "        vertical-align: middle;\n",
       "    }\n",
       "\n",
       "    .dataframe tbody tr th {\n",
       "        vertical-align: top;\n",
       "    }\n",
       "\n",
       "    .dataframe thead th {\n",
       "        text-align: right;\n",
       "    }\n",
       "</style>\n",
       "<table border=\"1\" class=\"dataframe\">\n",
       "  <thead>\n",
       "    <tr style=\"text-align: right;\">\n",
       "      <th></th>\n",
       "      <th>Name</th>\n",
       "      <th>Warm-blooded</th>\n",
       "      <th>Gives Birth</th>\n",
       "      <th>Aquatic Creature</th>\n",
       "      <th>Aerial Creature</th>\n",
       "      <th>Has Legs</th>\n",
       "      <th>Hibernates</th>\n",
       "      <th>Class</th>\n",
       "    </tr>\n",
       "  </thead>\n",
       "  <tbody>\n",
       "    <tr>\n",
       "      <th>0</th>\n",
       "      <td>human</td>\n",
       "      <td>1</td>\n",
       "      <td>1</td>\n",
       "      <td>0</td>\n",
       "      <td>0</td>\n",
       "      <td>1</td>\n",
       "      <td>0</td>\n",
       "      <td>mammals</td>\n",
       "    </tr>\n",
       "    <tr>\n",
       "      <th>1</th>\n",
       "      <td>python</td>\n",
       "      <td>0</td>\n",
       "      <td>0</td>\n",
       "      <td>0</td>\n",
       "      <td>0</td>\n",
       "      <td>0</td>\n",
       "      <td>1</td>\n",
       "      <td>reptiles</td>\n",
       "    </tr>\n",
       "    <tr>\n",
       "      <th>2</th>\n",
       "      <td>salmon</td>\n",
       "      <td>0</td>\n",
       "      <td>0</td>\n",
       "      <td>1</td>\n",
       "      <td>0</td>\n",
       "      <td>0</td>\n",
       "      <td>0</td>\n",
       "      <td>fishes</td>\n",
       "    </tr>\n",
       "    <tr>\n",
       "      <th>3</th>\n",
       "      <td>whale</td>\n",
       "      <td>1</td>\n",
       "      <td>1</td>\n",
       "      <td>1</td>\n",
       "      <td>0</td>\n",
       "      <td>0</td>\n",
       "      <td>0</td>\n",
       "      <td>mammals</td>\n",
       "    </tr>\n",
       "    <tr>\n",
       "      <th>4</th>\n",
       "      <td>frog</td>\n",
       "      <td>0</td>\n",
       "      <td>0</td>\n",
       "      <td>1</td>\n",
       "      <td>0</td>\n",
       "      <td>1</td>\n",
       "      <td>1</td>\n",
       "      <td>amphibians</td>\n",
       "    </tr>\n",
       "    <tr>\n",
       "      <th>5</th>\n",
       "      <td>komodo</td>\n",
       "      <td>0</td>\n",
       "      <td>0</td>\n",
       "      <td>0</td>\n",
       "      <td>0</td>\n",
       "      <td>1</td>\n",
       "      <td>0</td>\n",
       "      <td>reptiles</td>\n",
       "    </tr>\n",
       "    <tr>\n",
       "      <th>6</th>\n",
       "      <td>bat</td>\n",
       "      <td>1</td>\n",
       "      <td>1</td>\n",
       "      <td>0</td>\n",
       "      <td>1</td>\n",
       "      <td>1</td>\n",
       "      <td>1</td>\n",
       "      <td>mammals</td>\n",
       "    </tr>\n",
       "    <tr>\n",
       "      <th>7</th>\n",
       "      <td>pigeon</td>\n",
       "      <td>1</td>\n",
       "      <td>0</td>\n",
       "      <td>0</td>\n",
       "      <td>1</td>\n",
       "      <td>1</td>\n",
       "      <td>0</td>\n",
       "      <td>birds</td>\n",
       "    </tr>\n",
       "    <tr>\n",
       "      <th>8</th>\n",
       "      <td>cat</td>\n",
       "      <td>1</td>\n",
       "      <td>1</td>\n",
       "      <td>0</td>\n",
       "      <td>0</td>\n",
       "      <td>1</td>\n",
       "      <td>0</td>\n",
       "      <td>mammals</td>\n",
       "    </tr>\n",
       "    <tr>\n",
       "      <th>9</th>\n",
       "      <td>leopard shark</td>\n",
       "      <td>0</td>\n",
       "      <td>1</td>\n",
       "      <td>1</td>\n",
       "      <td>0</td>\n",
       "      <td>0</td>\n",
       "      <td>0</td>\n",
       "      <td>fishes</td>\n",
       "    </tr>\n",
       "    <tr>\n",
       "      <th>10</th>\n",
       "      <td>turtle</td>\n",
       "      <td>0</td>\n",
       "      <td>0</td>\n",
       "      <td>1</td>\n",
       "      <td>0</td>\n",
       "      <td>1</td>\n",
       "      <td>0</td>\n",
       "      <td>reptiles</td>\n",
       "    </tr>\n",
       "    <tr>\n",
       "      <th>11</th>\n",
       "      <td>penguin</td>\n",
       "      <td>1</td>\n",
       "      <td>0</td>\n",
       "      <td>1</td>\n",
       "      <td>0</td>\n",
       "      <td>1</td>\n",
       "      <td>0</td>\n",
       "      <td>birds</td>\n",
       "    </tr>\n",
       "    <tr>\n",
       "      <th>12</th>\n",
       "      <td>porcupine</td>\n",
       "      <td>1</td>\n",
       "      <td>1</td>\n",
       "      <td>0</td>\n",
       "      <td>0</td>\n",
       "      <td>1</td>\n",
       "      <td>1</td>\n",
       "      <td>mammals</td>\n",
       "    </tr>\n",
       "    <tr>\n",
       "      <th>13</th>\n",
       "      <td>eel</td>\n",
       "      <td>0</td>\n",
       "      <td>0</td>\n",
       "      <td>1</td>\n",
       "      <td>0</td>\n",
       "      <td>0</td>\n",
       "      <td>0</td>\n",
       "      <td>fishes</td>\n",
       "    </tr>\n",
       "    <tr>\n",
       "      <th>14</th>\n",
       "      <td>salamander</td>\n",
       "      <td>0</td>\n",
       "      <td>0</td>\n",
       "      <td>1</td>\n",
       "      <td>0</td>\n",
       "      <td>1</td>\n",
       "      <td>1</td>\n",
       "      <td>amphibians</td>\n",
       "    </tr>\n",
       "  </tbody>\n",
       "</table>\n",
       "</div>"
      ],
      "text/plain": [
       "             Name  Warm-blooded  Gives Birth  Aquatic Creature  \\\n",
       "0           human             1            1                 0   \n",
       "1          python             0            0                 0   \n",
       "2          salmon             0            0                 1   \n",
       "3           whale             1            1                 1   \n",
       "4            frog             0            0                 1   \n",
       "5          komodo             0            0                 0   \n",
       "6             bat             1            1                 0   \n",
       "7          pigeon             1            0                 0   \n",
       "8             cat             1            1                 0   \n",
       "9   leopard shark             0            1                 1   \n",
       "10         turtle             0            0                 1   \n",
       "11        penguin             1            0                 1   \n",
       "12      porcupine             1            1                 0   \n",
       "13            eel             0            0                 1   \n",
       "14     salamander             0            0                 1   \n",
       "\n",
       "    Aerial Creature  Has Legs  Hibernates       Class  \n",
       "0                 0         1           0     mammals  \n",
       "1                 0         0           1    reptiles  \n",
       "2                 0         0           0      fishes  \n",
       "3                 0         0           0     mammals  \n",
       "4                 0         1           1  amphibians  \n",
       "5                 0         1           0    reptiles  \n",
       "6                 1         1           1     mammals  \n",
       "7                 1         1           0       birds  \n",
       "8                 0         1           0     mammals  \n",
       "9                 0         0           0      fishes  \n",
       "10                0         1           0    reptiles  \n",
       "11                0         1           0       birds  \n",
       "12                0         1           1     mammals  \n",
       "13                0         0           0      fishes  \n",
       "14                0         1           1  amphibians  "
      ]
     },
     "execution_count": 1,
     "metadata": {},
     "output_type": "execute_result"
    }
   ],
   "source": [
    "##importing the dataset\n",
    "import pandas as pd\n",
    "data=pd.read_csv(r\"C:\\Users\\USER\\Downloads\\vertebrate(2) (1).csv\",header='infer')\n",
    "data"
   ]
  },
  {
   "cell_type": "code",
   "execution_count": 2,
   "id": "5ad7b4e7-a8bb-4099-b9e5-d0243304f86b",
   "metadata": {},
   "outputs": [],
   "source": [
    "data['Class']=data['Class'].replace(['fishes','birds','amphibians','reptiles'],'non-mammals')"
   ]
  },
  {
   "cell_type": "code",
   "execution_count": 3,
   "id": "6590bfd6-1e43-46df-9074-d924e856b252",
   "metadata": {},
   "outputs": [
    {
     "data": {
      "text/html": [
       "<div>\n",
       "<style scoped>\n",
       "    .dataframe tbody tr th:only-of-type {\n",
       "        vertical-align: middle;\n",
       "    }\n",
       "\n",
       "    .dataframe tbody tr th {\n",
       "        vertical-align: top;\n",
       "    }\n",
       "\n",
       "    .dataframe thead th {\n",
       "        text-align: right;\n",
       "    }\n",
       "</style>\n",
       "<table border=\"1\" class=\"dataframe\">\n",
       "  <thead>\n",
       "    <tr style=\"text-align: right;\">\n",
       "      <th></th>\n",
       "      <th>Name</th>\n",
       "      <th>Warm-blooded</th>\n",
       "      <th>Gives Birth</th>\n",
       "      <th>Aquatic Creature</th>\n",
       "      <th>Aerial Creature</th>\n",
       "      <th>Has Legs</th>\n",
       "      <th>Hibernates</th>\n",
       "      <th>Class</th>\n",
       "    </tr>\n",
       "  </thead>\n",
       "  <tbody>\n",
       "    <tr>\n",
       "      <th>0</th>\n",
       "      <td>human</td>\n",
       "      <td>1</td>\n",
       "      <td>1</td>\n",
       "      <td>0</td>\n",
       "      <td>0</td>\n",
       "      <td>1</td>\n",
       "      <td>0</td>\n",
       "      <td>mammals</td>\n",
       "    </tr>\n",
       "    <tr>\n",
       "      <th>1</th>\n",
       "      <td>python</td>\n",
       "      <td>0</td>\n",
       "      <td>0</td>\n",
       "      <td>0</td>\n",
       "      <td>0</td>\n",
       "      <td>0</td>\n",
       "      <td>1</td>\n",
       "      <td>non-mammals</td>\n",
       "    </tr>\n",
       "    <tr>\n",
       "      <th>2</th>\n",
       "      <td>salmon</td>\n",
       "      <td>0</td>\n",
       "      <td>0</td>\n",
       "      <td>1</td>\n",
       "      <td>0</td>\n",
       "      <td>0</td>\n",
       "      <td>0</td>\n",
       "      <td>non-mammals</td>\n",
       "    </tr>\n",
       "    <tr>\n",
       "      <th>3</th>\n",
       "      <td>whale</td>\n",
       "      <td>1</td>\n",
       "      <td>1</td>\n",
       "      <td>1</td>\n",
       "      <td>0</td>\n",
       "      <td>0</td>\n",
       "      <td>0</td>\n",
       "      <td>mammals</td>\n",
       "    </tr>\n",
       "    <tr>\n",
       "      <th>4</th>\n",
       "      <td>frog</td>\n",
       "      <td>0</td>\n",
       "      <td>0</td>\n",
       "      <td>1</td>\n",
       "      <td>0</td>\n",
       "      <td>1</td>\n",
       "      <td>1</td>\n",
       "      <td>non-mammals</td>\n",
       "    </tr>\n",
       "    <tr>\n",
       "      <th>5</th>\n",
       "      <td>komodo</td>\n",
       "      <td>0</td>\n",
       "      <td>0</td>\n",
       "      <td>0</td>\n",
       "      <td>0</td>\n",
       "      <td>1</td>\n",
       "      <td>0</td>\n",
       "      <td>non-mammals</td>\n",
       "    </tr>\n",
       "    <tr>\n",
       "      <th>6</th>\n",
       "      <td>bat</td>\n",
       "      <td>1</td>\n",
       "      <td>1</td>\n",
       "      <td>0</td>\n",
       "      <td>1</td>\n",
       "      <td>1</td>\n",
       "      <td>1</td>\n",
       "      <td>mammals</td>\n",
       "    </tr>\n",
       "    <tr>\n",
       "      <th>7</th>\n",
       "      <td>pigeon</td>\n",
       "      <td>1</td>\n",
       "      <td>0</td>\n",
       "      <td>0</td>\n",
       "      <td>1</td>\n",
       "      <td>1</td>\n",
       "      <td>0</td>\n",
       "      <td>non-mammals</td>\n",
       "    </tr>\n",
       "    <tr>\n",
       "      <th>8</th>\n",
       "      <td>cat</td>\n",
       "      <td>1</td>\n",
       "      <td>1</td>\n",
       "      <td>0</td>\n",
       "      <td>0</td>\n",
       "      <td>1</td>\n",
       "      <td>0</td>\n",
       "      <td>mammals</td>\n",
       "    </tr>\n",
       "    <tr>\n",
       "      <th>9</th>\n",
       "      <td>leopard shark</td>\n",
       "      <td>0</td>\n",
       "      <td>1</td>\n",
       "      <td>1</td>\n",
       "      <td>0</td>\n",
       "      <td>0</td>\n",
       "      <td>0</td>\n",
       "      <td>non-mammals</td>\n",
       "    </tr>\n",
       "    <tr>\n",
       "      <th>10</th>\n",
       "      <td>turtle</td>\n",
       "      <td>0</td>\n",
       "      <td>0</td>\n",
       "      <td>1</td>\n",
       "      <td>0</td>\n",
       "      <td>1</td>\n",
       "      <td>0</td>\n",
       "      <td>non-mammals</td>\n",
       "    </tr>\n",
       "    <tr>\n",
       "      <th>11</th>\n",
       "      <td>penguin</td>\n",
       "      <td>1</td>\n",
       "      <td>0</td>\n",
       "      <td>1</td>\n",
       "      <td>0</td>\n",
       "      <td>1</td>\n",
       "      <td>0</td>\n",
       "      <td>non-mammals</td>\n",
       "    </tr>\n",
       "    <tr>\n",
       "      <th>12</th>\n",
       "      <td>porcupine</td>\n",
       "      <td>1</td>\n",
       "      <td>1</td>\n",
       "      <td>0</td>\n",
       "      <td>0</td>\n",
       "      <td>1</td>\n",
       "      <td>1</td>\n",
       "      <td>mammals</td>\n",
       "    </tr>\n",
       "    <tr>\n",
       "      <th>13</th>\n",
       "      <td>eel</td>\n",
       "      <td>0</td>\n",
       "      <td>0</td>\n",
       "      <td>1</td>\n",
       "      <td>0</td>\n",
       "      <td>0</td>\n",
       "      <td>0</td>\n",
       "      <td>non-mammals</td>\n",
       "    </tr>\n",
       "    <tr>\n",
       "      <th>14</th>\n",
       "      <td>salamander</td>\n",
       "      <td>0</td>\n",
       "      <td>0</td>\n",
       "      <td>1</td>\n",
       "      <td>0</td>\n",
       "      <td>1</td>\n",
       "      <td>1</td>\n",
       "      <td>non-mammals</td>\n",
       "    </tr>\n",
       "  </tbody>\n",
       "</table>\n",
       "</div>"
      ],
      "text/plain": [
       "             Name  Warm-blooded  Gives Birth  Aquatic Creature  \\\n",
       "0           human             1            1                 0   \n",
       "1          python             0            0                 0   \n",
       "2          salmon             0            0                 1   \n",
       "3           whale             1            1                 1   \n",
       "4            frog             0            0                 1   \n",
       "5          komodo             0            0                 0   \n",
       "6             bat             1            1                 0   \n",
       "7          pigeon             1            0                 0   \n",
       "8             cat             1            1                 0   \n",
       "9   leopard shark             0            1                 1   \n",
       "10         turtle             0            0                 1   \n",
       "11        penguin             1            0                 1   \n",
       "12      porcupine             1            1                 0   \n",
       "13            eel             0            0                 1   \n",
       "14     salamander             0            0                 1   \n",
       "\n",
       "    Aerial Creature  Has Legs  Hibernates        Class  \n",
       "0                 0         1           0      mammals  \n",
       "1                 0         0           1  non-mammals  \n",
       "2                 0         0           0  non-mammals  \n",
       "3                 0         0           0      mammals  \n",
       "4                 0         1           1  non-mammals  \n",
       "5                 0         1           0  non-mammals  \n",
       "6                 1         1           1      mammals  \n",
       "7                 1         1           0  non-mammals  \n",
       "8                 0         1           0      mammals  \n",
       "9                 0         0           0  non-mammals  \n",
       "10                0         1           0  non-mammals  \n",
       "11                0         1           0  non-mammals  \n",
       "12                0         1           1      mammals  \n",
       "13                0         0           0  non-mammals  \n",
       "14                0         1           1  non-mammals  "
      ]
     },
     "execution_count": 3,
     "metadata": {},
     "output_type": "execute_result"
    }
   ],
   "source": [
    "data"
   ]
  },
  {
   "cell_type": "code",
   "execution_count": 4,
   "id": "359b27a9-cece-43a8-b34d-cb111173cc12",
   "metadata": {},
   "outputs": [
    {
     "data": {
      "text/html": [
       "<div>\n",
       "<style scoped>\n",
       "    .dataframe tbody tr th:only-of-type {\n",
       "        vertical-align: middle;\n",
       "    }\n",
       "\n",
       "    .dataframe tbody tr th {\n",
       "        vertical-align: top;\n",
       "    }\n",
       "\n",
       "    .dataframe thead th {\n",
       "        text-align: right;\n",
       "    }\n",
       "</style>\n",
       "<table border=\"1\" class=\"dataframe\">\n",
       "  <thead>\n",
       "    <tr style=\"text-align: right;\">\n",
       "      <th></th>\n",
       "      <th>Class</th>\n",
       "      <th>mammals</th>\n",
       "      <th>non-mammals</th>\n",
       "    </tr>\n",
       "    <tr>\n",
       "      <th>Warm-blooded</th>\n",
       "      <th>Gives Birth</th>\n",
       "      <th></th>\n",
       "      <th></th>\n",
       "    </tr>\n",
       "  </thead>\n",
       "  <tbody>\n",
       "    <tr>\n",
       "      <th rowspan=\"2\" valign=\"top\">0</th>\n",
       "      <th>0</th>\n",
       "      <td>0</td>\n",
       "      <td>7</td>\n",
       "    </tr>\n",
       "    <tr>\n",
       "      <th>1</th>\n",
       "      <td>0</td>\n",
       "      <td>1</td>\n",
       "    </tr>\n",
       "    <tr>\n",
       "      <th rowspan=\"2\" valign=\"top\">1</th>\n",
       "      <th>0</th>\n",
       "      <td>0</td>\n",
       "      <td>2</td>\n",
       "    </tr>\n",
       "    <tr>\n",
       "      <th>1</th>\n",
       "      <td>5</td>\n",
       "      <td>0</td>\n",
       "    </tr>\n",
       "  </tbody>\n",
       "</table>\n",
       "</div>"
      ],
      "text/plain": [
       "Class                     mammals  non-mammals\n",
       "Warm-blooded Gives Birth                      \n",
       "0            0                  0            7\n",
       "             1                  0            1\n",
       "1            0                  0            2\n",
       "             1                  5            0"
      ]
     },
     "execution_count": 4,
     "metadata": {},
     "output_type": "execute_result"
    }
   ],
   "source": [
    "##cross tabulation\n",
    "pd.crosstab([data['Warm-blooded'],data['Gives Birth']],data['Class'])"
   ]
  },
  {
   "cell_type": "code",
   "execution_count": 5,
   "id": "1812d9bf-c471-4f01-8fd6-1924af2c9deb",
   "metadata": {},
   "outputs": [],
   "source": [
    "##decision tree\n",
    "from sklearn import tree"
   ]
  },
  {
   "cell_type": "code",
   "execution_count": 6,
   "id": "b598751b-6843-455e-b14c-77cc94902fbd",
   "metadata": {},
   "outputs": [],
   "source": [
    "y=data['Class']"
   ]
  },
  {
   "cell_type": "code",
   "execution_count": 7,
   "id": "bff3c7a6-a48a-44a6-b517-48600bf00853",
   "metadata": {},
   "outputs": [
    {
     "data": {
      "text/plain": [
       "0         mammals\n",
       "1     non-mammals\n",
       "2     non-mammals\n",
       "3         mammals\n",
       "4     non-mammals\n",
       "5     non-mammals\n",
       "6         mammals\n",
       "7     non-mammals\n",
       "8         mammals\n",
       "9     non-mammals\n",
       "10    non-mammals\n",
       "11    non-mammals\n",
       "12        mammals\n",
       "13    non-mammals\n",
       "14    non-mammals\n",
       "Name: Class, dtype: object"
      ]
     },
     "execution_count": 7,
     "metadata": {},
     "output_type": "execute_result"
    }
   ],
   "source": [
    "y"
   ]
  },
  {
   "cell_type": "code",
   "execution_count": 8,
   "id": "a734f47a-34a3-4c7c-a95a-f787db2647a5",
   "metadata": {},
   "outputs": [],
   "source": [
    "x=data.drop(['Name','Class'],axis=1)"
   ]
  },
  {
   "cell_type": "code",
   "execution_count": 9,
   "id": "9662234f-64ab-409d-945f-b41537a18d1c",
   "metadata": {},
   "outputs": [
    {
     "data": {
      "text/html": [
       "<div>\n",
       "<style scoped>\n",
       "    .dataframe tbody tr th:only-of-type {\n",
       "        vertical-align: middle;\n",
       "    }\n",
       "\n",
       "    .dataframe tbody tr th {\n",
       "        vertical-align: top;\n",
       "    }\n",
       "\n",
       "    .dataframe thead th {\n",
       "        text-align: right;\n",
       "    }\n",
       "</style>\n",
       "<table border=\"1\" class=\"dataframe\">\n",
       "  <thead>\n",
       "    <tr style=\"text-align: right;\">\n",
       "      <th></th>\n",
       "      <th>Warm-blooded</th>\n",
       "      <th>Gives Birth</th>\n",
       "      <th>Aquatic Creature</th>\n",
       "      <th>Aerial Creature</th>\n",
       "      <th>Has Legs</th>\n",
       "      <th>Hibernates</th>\n",
       "    </tr>\n",
       "  </thead>\n",
       "  <tbody>\n",
       "    <tr>\n",
       "      <th>0</th>\n",
       "      <td>1</td>\n",
       "      <td>1</td>\n",
       "      <td>0</td>\n",
       "      <td>0</td>\n",
       "      <td>1</td>\n",
       "      <td>0</td>\n",
       "    </tr>\n",
       "    <tr>\n",
       "      <th>1</th>\n",
       "      <td>0</td>\n",
       "      <td>0</td>\n",
       "      <td>0</td>\n",
       "      <td>0</td>\n",
       "      <td>0</td>\n",
       "      <td>1</td>\n",
       "    </tr>\n",
       "    <tr>\n",
       "      <th>2</th>\n",
       "      <td>0</td>\n",
       "      <td>0</td>\n",
       "      <td>1</td>\n",
       "      <td>0</td>\n",
       "      <td>0</td>\n",
       "      <td>0</td>\n",
       "    </tr>\n",
       "    <tr>\n",
       "      <th>3</th>\n",
       "      <td>1</td>\n",
       "      <td>1</td>\n",
       "      <td>1</td>\n",
       "      <td>0</td>\n",
       "      <td>0</td>\n",
       "      <td>0</td>\n",
       "    </tr>\n",
       "    <tr>\n",
       "      <th>4</th>\n",
       "      <td>0</td>\n",
       "      <td>0</td>\n",
       "      <td>1</td>\n",
       "      <td>0</td>\n",
       "      <td>1</td>\n",
       "      <td>1</td>\n",
       "    </tr>\n",
       "    <tr>\n",
       "      <th>5</th>\n",
       "      <td>0</td>\n",
       "      <td>0</td>\n",
       "      <td>0</td>\n",
       "      <td>0</td>\n",
       "      <td>1</td>\n",
       "      <td>0</td>\n",
       "    </tr>\n",
       "    <tr>\n",
       "      <th>6</th>\n",
       "      <td>1</td>\n",
       "      <td>1</td>\n",
       "      <td>0</td>\n",
       "      <td>1</td>\n",
       "      <td>1</td>\n",
       "      <td>1</td>\n",
       "    </tr>\n",
       "    <tr>\n",
       "      <th>7</th>\n",
       "      <td>1</td>\n",
       "      <td>0</td>\n",
       "      <td>0</td>\n",
       "      <td>1</td>\n",
       "      <td>1</td>\n",
       "      <td>0</td>\n",
       "    </tr>\n",
       "    <tr>\n",
       "      <th>8</th>\n",
       "      <td>1</td>\n",
       "      <td>1</td>\n",
       "      <td>0</td>\n",
       "      <td>0</td>\n",
       "      <td>1</td>\n",
       "      <td>0</td>\n",
       "    </tr>\n",
       "    <tr>\n",
       "      <th>9</th>\n",
       "      <td>0</td>\n",
       "      <td>1</td>\n",
       "      <td>1</td>\n",
       "      <td>0</td>\n",
       "      <td>0</td>\n",
       "      <td>0</td>\n",
       "    </tr>\n",
       "    <tr>\n",
       "      <th>10</th>\n",
       "      <td>0</td>\n",
       "      <td>0</td>\n",
       "      <td>1</td>\n",
       "      <td>0</td>\n",
       "      <td>1</td>\n",
       "      <td>0</td>\n",
       "    </tr>\n",
       "    <tr>\n",
       "      <th>11</th>\n",
       "      <td>1</td>\n",
       "      <td>0</td>\n",
       "      <td>1</td>\n",
       "      <td>0</td>\n",
       "      <td>1</td>\n",
       "      <td>0</td>\n",
       "    </tr>\n",
       "    <tr>\n",
       "      <th>12</th>\n",
       "      <td>1</td>\n",
       "      <td>1</td>\n",
       "      <td>0</td>\n",
       "      <td>0</td>\n",
       "      <td>1</td>\n",
       "      <td>1</td>\n",
       "    </tr>\n",
       "    <tr>\n",
       "      <th>13</th>\n",
       "      <td>0</td>\n",
       "      <td>0</td>\n",
       "      <td>1</td>\n",
       "      <td>0</td>\n",
       "      <td>0</td>\n",
       "      <td>0</td>\n",
       "    </tr>\n",
       "    <tr>\n",
       "      <th>14</th>\n",
       "      <td>0</td>\n",
       "      <td>0</td>\n",
       "      <td>1</td>\n",
       "      <td>0</td>\n",
       "      <td>1</td>\n",
       "      <td>1</td>\n",
       "    </tr>\n",
       "  </tbody>\n",
       "</table>\n",
       "</div>"
      ],
      "text/plain": [
       "    Warm-blooded  Gives Birth  Aquatic Creature  Aerial Creature  Has Legs  \\\n",
       "0              1            1                 0                0         1   \n",
       "1              0            0                 0                0         0   \n",
       "2              0            0                 1                0         0   \n",
       "3              1            1                 1                0         0   \n",
       "4              0            0                 1                0         1   \n",
       "5              0            0                 0                0         1   \n",
       "6              1            1                 0                1         1   \n",
       "7              1            0                 0                1         1   \n",
       "8              1            1                 0                0         1   \n",
       "9              0            1                 1                0         0   \n",
       "10             0            0                 1                0         1   \n",
       "11             1            0                 1                0         1   \n",
       "12             1            1                 0                0         1   \n",
       "13             0            0                 1                0         0   \n",
       "14             0            0                 1                0         1   \n",
       "\n",
       "    Hibernates  \n",
       "0            0  \n",
       "1            1  \n",
       "2            0  \n",
       "3            0  \n",
       "4            1  \n",
       "5            0  \n",
       "6            1  \n",
       "7            0  \n",
       "8            0  \n",
       "9            0  \n",
       "10           0  \n",
       "11           0  \n",
       "12           1  \n",
       "13           0  \n",
       "14           1  "
      ]
     },
     "execution_count": 9,
     "metadata": {},
     "output_type": "execute_result"
    }
   ],
   "source": [
    "x"
   ]
  },
  {
   "cell_type": "code",
   "execution_count": 11,
   "id": "a5073e40-10ab-45c7-801a-ce2ade558b6e",
   "metadata": {},
   "outputs": [],
   "source": [
    "##using the default optimal depth\n",
    "clf=tree.DecisionTreeClassifier(criterion='entropy')"
   ]
  },
  {
   "cell_type": "code",
   "execution_count": 12,
   "id": "ef7d7ac9-a56e-4e29-ac19-70825cd16162",
   "metadata": {},
   "outputs": [],
   "source": [
    "##splitting the data into train and test\n",
    "from sklearn.model_selection import train_test_split\n",
    "xtrain,xtest,ytrain,ytest=train_test_split(x,y,test_size=0.3,random_state=10)"
   ]
  },
  {
   "cell_type": "code",
   "execution_count": 13,
   "id": "95fc6447-7335-41eb-8020-0168f1eaf537",
   "metadata": {},
   "outputs": [],
   "source": [
    "clf=clf.fit(xtrain,ytrain)"
   ]
  },
  {
   "cell_type": "code",
   "execution_count": 89,
   "id": "8eb005a4-20b9-4e04-a020-ddb89808b8ee",
   "metadata": {},
   "outputs": [],
   "source": [
    "train_prediction=clf.predict(xtrain)"
   ]
  },
  {
   "cell_type": "code",
   "execution_count": 96,
   "id": "329a16d1-a808-4659-86be-c98aae20ac2f",
   "metadata": {},
   "outputs": [
    {
     "data": {
      "text/plain": [
       "1.0"
      ]
     },
     "execution_count": 96,
     "metadata": {},
     "output_type": "execute_result"
    }
   ],
   "source": [
    "##testing accuracy of model using train data\n",
    "accuracy_score(ytrain,train_prediction)"
   ]
  },
  {
   "cell_type": "code",
   "execution_count": 15,
   "id": "6dc5ac6b-b6d6-4acb-935e-8d8013ebe102",
   "metadata": {},
   "outputs": [
    {
     "data": {
      "text/plain": [
       "array(['mammals', 'non-mammals', 'mammals', 'mammals', 'mammals'],\n",
       "      dtype=object)"
      ]
     },
     "execution_count": 15,
     "metadata": {},
     "output_type": "execute_result"
    }
   ],
   "source": [
    "##testing the model using test data\n",
    "test_prediction=clf.predict(xtest)\n",
    "test_prediction"
   ]
  },
  {
   "cell_type": "code",
   "execution_count": 88,
   "id": "6dcc8320-a20d-4d77-8abe-3a1ab9a031d2",
   "metadata": {},
   "outputs": [
    {
     "data": {
      "text/plain": [
       "1.0"
      ]
     },
     "execution_count": 88,
     "metadata": {},
     "output_type": "execute_result"
    }
   ],
   "source": [
    "##testing accuracy of the model\n",
    "accuracy_score(ytest,test_prediction)"
   ]
  },
  {
   "cell_type": "code",
   "execution_count": 17,
   "id": "52f5d14d-d2c1-42cd-83e4-e9fb500e9418",
   "metadata": {},
   "outputs": [],
   "source": [
    "##testing the model using multiple accuracies\n",
    "import numpy as np\n",
    "depths=range(1,30)\n",
    "test_accuracies=np.zeros(len(depths))\n",
    "train_accuracies=np.zeros(len(depths))"
   ]
  },
  {
   "cell_type": "code",
   "execution_count": 18,
   "id": "377625b7-0205-42a7-8ee8-42c7cd458b64",
   "metadata": {},
   "outputs": [],
   "source": [
    "from  sklearn.metrics import accuracy_score"
   ]
  },
  {
   "cell_type": "code",
   "execution_count": 19,
   "id": "415ca83e-8c3e-4d65-8176-d194a88d3c32",
   "metadata": {},
   "outputs": [],
   "source": [
    "from  sklearn.metrics import accuracy_score"
   ]
  },
  {
   "cell_type": "code",
   "execution_count": 20,
   "id": "881e812b-35ee-4131-b05e-f850b34b44a0",
   "metadata": {},
   "outputs": [],
   "source": [
    "for index, depth in enumerate(depths):\n",
    "    clf.max_depth=depth\n",
    "    clf.fit(xtrain,ytrain)\n",
    "    ypred_train=clf.predict(xtrain)\n",
    "    ypred_test=clf.predict(xtest)\n",
    "    train_accuracies[index]=accuracy_score(ytrain,ypred_train)\n",
    "    test_accuracies[index]=accuracy_score(ytest,ypred_test)\n",
    "    index+=1"
   ]
  },
  {
   "cell_type": "code",
   "execution_count": 21,
   "id": "7378ae4c-6673-4880-a338-ee9318460f90",
   "metadata": {},
   "outputs": [
    {
     "data": {
      "text/plain": [
       "array([0.9, 1. , 1. , 1. , 1. , 1. , 1. , 1. , 1. , 1. , 1. , 1. , 1. ,\n",
       "       1. , 1. , 1. , 1. , 1. , 1. , 1. , 1. , 1. , 1. , 1. , 1. , 1. ,\n",
       "       1. , 1. , 1. ])"
      ]
     },
     "execution_count": 21,
     "metadata": {},
     "output_type": "execute_result"
    }
   ],
   "source": [
    "train_accuracies"
   ]
  },
  {
   "cell_type": "code",
   "execution_count": 62,
   "id": "cbf7fd18-8a2a-41fd-b454-e72c0e17865a",
   "metadata": {},
   "outputs": [
    {
     "data": {
      "text/plain": [
       "array([1. , 1. , 0.6, 1. , 0.6, 1. , 1. , 1. , 1. , 1. , 1. , 0.8, 0.8,\n",
       "       1. , 0.6, 1. , 0.6, 0.8, 1. , 1. , 0.8, 0.6, 0.8, 0.6, 0.8, 0.8,\n",
       "       1. , 0.8, 0.8])"
      ]
     },
     "execution_count": 62,
     "metadata": {},
     "output_type": "execute_result"
    }
   ],
   "source": [
    "test_accuracies"
   ]
  },
  {
   "cell_type": "code",
   "execution_count": 24,
   "id": "8f3cab78-35ca-4149-918a-0201e6b2fd99",
   "metadata": {},
   "outputs": [
    {
     "data": {
      "text/plain": [
       "Text(0, 0.5, 'Accuracies')"
      ]
     },
     "execution_count": 24,
     "metadata": {},
     "output_type": "execute_result"
    },
    {
     "data": {
      "image/png": "[encoded data removed]",
      "text/plain": [
       "<Figure size 640x480 with 1 Axes>"
      ]
     },
     "metadata": {},
     "output_type": "display_data"
    }
   ],
   "source": [
    "##drawing the plot\n",
    "import matplotlib.pyplot as plt\n",
    "plt.plot(depths,train_accuracies,'ro-',depths,test_accuracies,'bv--')\n",
    "plt.legend(['Training Accuracy','Testing Accuracy'])\n",
    "plt.xlabel('Depths')\n",
    "plt.ylabel('Accuracies')"
   ]
  },
  {
   "cell_type": "code",
   "execution_count": 25,
   "id": "66734ed7-0f2d-4e57-9340-4aa515c1a313",
   "metadata": {},
   "outputs": [
    {
     "data": {
      "text/plain": [
       "1.0"
      ]
     },
     "execution_count": 25,
     "metadata": {},
     "output_type": "execute_result"
    }
   ],
   "source": [
    "##maximum train and test accuracies\n",
    "train_accuracies.max()"
   ]
  },
  {
   "cell_type": "code",
   "execution_count": 26,
   "id": "8a4cf294-5600-4d3d-95d4-023a80209c5a",
   "metadata": {},
   "outputs": [
    {
     "data": {
      "text/plain": [
       "1.0"
      ]
     },
     "execution_count": 26,
     "metadata": {},
     "output_type": "execute_result"
    }
   ],
   "source": [
    "test_accuracies.max()"
   ]
  },
  {
   "cell_type": "code",
   "execution_count": 27,
   "id": "49d5ccbd-d762-4116-86cd-8bd8fdde1b1c",
   "metadata": {},
   "outputs": [
    {
     "data": {
      "text/plain": [
       "0.9"
      ]
     },
     "execution_count": 27,
     "metadata": {},
     "output_type": "execute_result"
    }
   ],
   "source": [
    "##minimum train and test accuracies\n",
    "train_accuracies.min()"
   ]
  },
  {
   "cell_type": "code",
   "execution_count": 28,
   "id": "e5bd6818-7617-4f7c-92bc-635e2a4e0de3",
   "metadata": {},
   "outputs": [
    {
     "data": {
      "text/plain": [
       "0.6"
      ]
     },
     "execution_count": 28,
     "metadata": {},
     "output_type": "execute_result"
    }
   ],
   "source": [
    "test_accuracies.min()"
   ]
  },
  {
   "cell_type": "code",
   "execution_count": 72,
   "id": "b1739077-2243-43b6-9bc5-72662b6a18b3",
   "metadata": {},
   "outputs": [],
   "source": [
    "##repeating the decision tree with a depth of 5\n",
    "clf2=tree.DecisionTreeClassifier(criterion='entropy',max_depth=5)"
   ]
  },
  {
   "cell_type": "code",
   "execution_count": 73,
   "id": "5d477bdc-2bd9-4cb7-9034-cacf0a31658f",
   "metadata": {},
   "outputs": [],
   "source": [
    "clf2=clf2.fit(xtrain,ytrain)"
   ]
  },
  {
   "cell_type": "code",
   "execution_count": 74,
   "id": "f0b0d734-0d8e-4cf1-a33e-e0aa666ffef8",
   "metadata": {},
   "outputs": [
    {
     "data": {
      "text/plain": [
       "array(['non-mammals', 'mammals', 'mammals', 'mammals', 'mammals'],\n",
       "      dtype=object)"
      ]
     },
     "execution_count": 74,
     "metadata": {},
     "output_type": "execute_result"
    }
   ],
   "source": [
    "test_prediction2=clf2.predict(xtest)\n",
    "test_prediction2"
   ]
  },
  {
   "cell_type": "code",
   "execution_count": 75,
   "id": "65eb0ff4-5af7-41bb-a43d-6fdb24b28cca",
   "metadata": {},
   "outputs": [
    {
     "data": {
      "text/plain": [
       "3         mammals\n",
       "7     non-mammals\n",
       "12        mammals\n",
       "6         mammals\n",
       "8         mammals\n",
       "Name: Class, dtype: object"
      ]
     },
     "execution_count": 75,
     "metadata": {},
     "output_type": "execute_result"
    }
   ],
   "source": [
    "ytest"
   ]
  },
  {
   "cell_type": "code",
   "execution_count": 76,
   "id": "e362f67d-7ce8-456e-a149-8f7ef2bb5ed1",
   "metadata": {},
   "outputs": [
    {
     "data": {
      "text/plain": [
       "0.6"
      ]
     },
     "execution_count": 76,
     "metadata": {},
     "output_type": "execute_result"
    }
   ],
   "source": [
    "##testing accuracy of the model\n",
    "accuracy_score(ytest,test_prediction2)"
   ]
  },
  {
   "cell_type": "code",
   "execution_count": null,
   "id": "f4d0f03d-216a-4243-9eee-552781f5f151",
   "metadata": {},
   "outputs": [],
   "source": [
    "##accuracy of 0.6 is similar to the graph results created at a depth of 5"
   ]
  },
  {
   "cell_type": "code",
   "execution_count": 82,
   "id": "90018fb8-9a13-4ac7-8c11-e8548aba71b7",
   "metadata": {},
   "outputs": [],
   "source": [
    "##testing accuracy at depth 3\n",
    "clf3=tree.DecisionTreeClassifier(criterion='entropy',max_depth=2)"
   ]
  },
  {
   "cell_type": "code",
   "execution_count": 83,
   "id": "bc07a010-0fa0-430e-8512-a6107822b57d",
   "metadata": {},
   "outputs": [],
   "source": [
    "clf3=clf3.fit(xtrain,ytrain)"
   ]
  },
  {
   "cell_type": "code",
   "execution_count": 84,
   "id": "f52bf3cf-3a6c-4d2b-92d2-5260ff27272a",
   "metadata": {},
   "outputs": [
    {
     "data": {
      "text/plain": [
       "array(['mammals', 'non-mammals', 'mammals', 'mammals', 'mammals'],\n",
       "      dtype=object)"
      ]
     },
     "execution_count": 84,
     "metadata": {},
     "output_type": "execute_result"
    }
   ],
   "source": [
    "test_prediction3=clf3.predict(xtest)\n",
    "test_prediction3"
   ]
  },
  {
   "cell_type": "code",
   "execution_count": 85,
   "id": "8b873962-0dd5-4ac7-bf78-2298e65e4bba",
   "metadata": {},
   "outputs": [
    {
     "data": {
      "text/plain": [
       "3         mammals\n",
       "7     non-mammals\n",
       "12        mammals\n",
       "6         mammals\n",
       "8         mammals\n",
       "Name: Class, dtype: object"
      ]
     },
     "execution_count": 85,
     "metadata": {},
     "output_type": "execute_result"
    }
   ],
   "source": [
    "ytest"
   ]
  },
  {
   "cell_type": "code",
   "execution_count": 86,
   "id": "c9bde5cf-3a29-469f-a23e-9abb838731ae",
   "metadata": {},
   "outputs": [
    {
     "data": {
      "text/plain": [
       "1.0"
      ]
     },
     "execution_count": 86,
     "metadata": {},
     "output_type": "execute_result"
    }
   ],
   "source": [
    "##testing accuracy of the model\n",
    "accuracy_score(ytest,test_prediction3)"
   ]
  },
  {
   "cell_type": "code",
   "execution_count": null,
   "id": "bb885474-50af-4a5e-80ab-179a9b1dce5d",
   "metadata": {},
   "outputs": [],
   "source": [
    "##accuracy of 1.0 is similar to the graph results created at a depth of 2. Therefore the default depth of the decision treee model can be 2."
   ]
  },
  {
   "cell_type": "code",
   "execution_count": null,
   "id": "a45eeb24-8edf-475a-98e1-78eee9df4b2c",
   "metadata": {},
   "outputs": [],
   "source": [
    "##interpretation\n",
    "#the model works well on train data and gives perfect predictions,with an accuracy of 1, from a depth of 2 which plateaus from there.\n",
    "#the model constantly fluctuates along the depths of the test data, achieving high accuracy of 1, lowest accuracy of 0.6 indicating the model was overfit on the training data"
   ]
  },
  {
   "cell_type": "code",
   "execution_count": null,
   "id": "e41f0dfb-c631-4f0b-81a1-fa28f72c76e3",
   "metadata": {},
   "outputs": [],
   "source": []
  }
 ],
 "metadata": {
  "kernelspec": {
   "display_name": "Python 3 (ipykernel)",
   "language": "python",
   "name": "python3"
  },
  "language_info": {
   "codemirror_mode": {
    "name": "ipython",
    "version": 3
   },
   "file_extension": ".py",
   "mimetype": "text/x-python",
   "name": "python",
   "nbconvert_exporter": "python",
   "pygments_lexer": "ipython3",
   "version": "3.10.9"
  }
 },
 "nbformat": 4,
 "nbformat_minor": 5
}
